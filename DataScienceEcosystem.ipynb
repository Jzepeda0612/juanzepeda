{
 "cells": [
  {
   "cell_type": "markdown",
   "id": "32114358-ef38-4846-835f-8820ec3b9437",
   "metadata": {},
   "source": [
    "# Proyecto Juan Zepeda"
   ]
  },
  {
   "cell_type": "markdown",
   "id": "73479fb8-cbfb-413f-b18b-27285518e4b3",
   "metadata": {},
   "source": [
    "## In this notebook, Data Science Tools and Ecosystem are summarized."
   ]
  },
  {
   "cell_type": "markdown",
   "id": "6b661822-bd4f-4a75-927c-7cd60e9b1bb2",
   "metadata": {},
   "source": [
    "**Objetivos Cubiertos en Este Cuaderno:**\r\n",
    "\r\n",
    "- Comprender los fundamentos de la ciencia de datos y su importancia en el análisis de datos.\r\n",
    "- Aprender sobre los lenguajes de programación más utilizados en ciencia de datos, como Python y R.\r\n",
    "- Familiarizarse con las bibliotecas y herramientas de código abierto que son esenciales para el análisis de datos.\r\n",
    "- Explorar ejemplos de expresiones aritméticas y cómo se aplican en el contexto de la ciencia de datos.\r\n",
    "- Desarrollar habilidades prácticas mediante la creación de funciones para manipular datos y realizar conversiones.\r\n"
   ]
  },
  {
   "cell_type": "markdown",
   "id": "715a7c47-fecc-4328-a99b-2f8c9aea966d",
   "metadata": {},
   "source": [
    "## Author\n",
    "Nombre del Autor: [Juan Carlos]a\r\n",
    "\r\n",
    "í]\r\n"
   ]
  },
  {
   "cell_type": "markdown",
   "id": "7fa71751-b0b2-4c34-b278-699c4c348e9f",
   "metadata": {},
   "source": [
    "Some of the popular languages that Data Scientists use are:\n",
    "\n",
    "#1 **Python**\n",
    "#2 **R**\n",
    "#3 **SQL**\n",
    "#4 **Julia**\n",
    "#5 **SAS**ficiente.\r\n"
   ]
  },
  {
   "cell_type": "markdown",
   "id": "7fd84899-8762-4338-a7a8-1d74b5533f0d",
   "metadata": {},
   "source": [
    "Some of the commonly used libraries used by Data Scientists include:\n",
    "\n",
    "#1 **Pandas**\n",
    "#2 **NumPy**\n",
    "#3 **Matplotlib**\n",
    "#4 **Seaborn**\n",
    "#5**Scikit-learn**\n",
    "#6 **TensorFlow**\n",
    "#7 **Keras** \n",
    "#8 **Statsmodels**"
   ]
  },
  {
   "cell_type": "markdown",
   "id": "2bc3c133-0e54-4fdc-9fcc-8cd32a9ebe1c",
   "metadata": {},
   "source": [
    "Herramientas de ciencias de Datos\r",
    ":\r\n",
    "\r\n",
    "| Herramientas de Código Abierto      |\r\n",
    "|-------------------------------------|\r\n",
    "| **Jupyter Notebook**                |\r\n",
    "| **RStudio**                         |\r\n",
    "| **Apache Zeppelin**          e datos.\r\n",
    " y el modelado.\r\n"
   ]
  },
  {
   "cell_type": "markdown",
   "id": "743d20b6-2f9b-4e83-9cd8-b7845ace554a",
   "metadata": {},
   "source": [
    "### Below are a few examples of evaluating arithmetic expressions in Python\n",
    "\n",
    "Ejemplos de Expresiones Aritméticas\r",
    ":\r\n",
    "\r\n",
    "1. **Suma**: \r\n",
    "   - \\(5 + 3 = 8\\)\r\n",
    "   - \\(12 + 7 = 19\\)\r\n",
    "\r\n",
    "2. **Resta**: \r\n",
    "   - \\(10 - 4 = 6\\)\r\n",
    "   - \\(20 - 5 = 15\\)\r\n",
    "\r\n",
    "3. **Multiplicación**: \r\n",
    "   - \\(6 \\times 7 = 42\\)\r\n",
    "   - \\(3 \\times 8 = 24\\)\r\n",
    "\r\n",
    "4. **División**: \r\n",
    "   - \\(16 \\div 4 = 4\\)\r\n",
    "   - \\(25 \\div 5 = 5\\)\r\n",
    "\r\n",
    "5. **Combinaciones**:\r\n",
    "   - \\((2 + 3) \\times 4 = 20\\)\r\n",
    "   ara realizar cálculos.\r\n",
    "\n"
   ]
  },
  {
   "cell_type": "code",
   "execution_count": 47,
   "id": "bb450387-cbf5-4a2d-8a91-54570b307316",
   "metadata": {},
   "outputs": [
    {
     "data": {
      "text/plain": [
       "17"
      ]
     },
     "execution_count": 47,
     "metadata": {},
     "output_type": "execute_result"
    }
   ],
   "source": [
    "#  esta es una expresión aritmética simple para luego agregar números enteros\n",
    "(3*4)+5"
   ]
  },
  {
   "cell_type": "code",
   "execution_count": 49,
   "id": "a6aeee23-3785-4bf3-a464-87ff0b7e2ba4",
   "metadata": {},
   "outputs": [
    {
     "name": "stdout",
     "output_type": "stream",
     "text": [
      "200 minutos son 3.33 horas.\n"
     ]
    }
   ],
   "source": [
    "#Esto convertirá 200 minutos en horas buceando en 60\n",
    "\n",
    "def convertir_minutos_a_horas(minutos):\n",
    "    horas = minutos / 60\n",
    "    return horas\n",
    "\n",
    "# Ejemplo de horas buceando\n",
    "minutos = 200  \n",
    "horas = convertir_minutos_a_horas(minutos)\n",
    "\n",
    "# Resultado\n",
    "print(f\"{minutos} minutos son {horas:.2f} horas.\")\n"
   ]
  },
  {
   "cell_type": "code",
   "execution_count": null,
   "id": "f5cc771f-1b4c-4434-aa98-208851247855",
   "metadata": {},
   "outputs": [],
   "source": []
  }
 ],
 "metadata": {
  "kernelspec": {
   "display_name": "Python 3 (ipykernel)",
   "language": "python",
   "name": "python3"
  },
  "language_info": {
   "codemirror_mode": {
    "name": "ipython",
    "version": 3
   },
   "file_extension": ".py",
   "mimetype": "text/x-python",
   "name": "python",
   "nbconvert_exporter": "python",
   "pygments_lexer": "ipython3",
   "version": "3.12.4"
  }
 },
 "nbformat": 4,
 "nbformat_minor": 5
}
